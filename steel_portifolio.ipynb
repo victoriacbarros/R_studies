{
 "cells": [
  {
   "cell_type": "markdown",
   "id": "35b9fb4b",
   "metadata": {},
   "source": [
    "## Time Series Analysis"
   ]
  },
  {
   "cell_type": "markdown",
   "id": "15a53daa",
   "metadata": {},
   "source": [
    "An investor wants to know if a certain investment portfolio is worth investing in and has asked an analyst to do a quick analysis, to obtain the model equation and make his own conclusions:"
   ]
  },
  {
   "cell_type": "markdown",
   "id": "1aac90fc",
   "metadata": {},
   "source": [
    "Let's start the data analysis with a brief exploratory analysis:"
   ]
  },
  {
   "cell_type": "code",
   "execution_count": 3,
   "id": "da466b20",
   "metadata": {},
   "outputs": [
    {
     "data": {
      "text/html": [
       "'C:/Users/Victoria/Documents/Git_Projects'"
      ],
      "text/latex": [
       "'C:/Users/Victoria/Documents/Git\\_Projects'"
      ],
      "text/markdown": [
       "'C:/Users/Victoria/Documents/Git_Projects'"
      ],
      "text/plain": [
       "[1] \"C:/Users/Victoria/Documents/Git_Projects\""
      ]
     },
     "metadata": {},
     "output_type": "display_data"
    },
    {
     "name": "stderr",
     "output_type": "stream",
     "text": [
      "also installing the dependency 'quadprog'\n",
      "\n"
     ]
    },
    {
     "name": "stdout",
     "output_type": "stream",
     "text": [
      "\n",
      "  There is a binary version available but the source version is later:\n",
      "         binary  source needs_compilation\n",
      "tseries 0.10-48 0.10-51              TRUE\n",
      "\n",
      "  Binaries will be installed\n",
      "package 'quadprog' successfully unpacked and MD5 sums checked\n",
      "package 'tseries' successfully unpacked and MD5 sums checked\n",
      "\n",
      "The downloaded binary packages are in\n",
      "\tC:\\Users\\Victoria\\AppData\\Local\\Temp\\RtmpEZiz2w\\downloaded_packages\n",
      "\n",
      "  There is a binary version available but the source version is later:\n",
      "       binary source needs_compilation\n",
      "lmtest 0.9-38 0.9-40              TRUE\n",
      "\n",
      "  Binaries will be installed\n",
      "package 'lmtest' successfully unpacked and MD5 sums checked\n",
      "\n",
      "The downloaded binary packages are in\n",
      "\tC:\\Users\\Victoria\\AppData\\Local\\Temp\\RtmpEZiz2w\\downloaded_packages\n"
     ]
    },
    {
     "name": "stderr",
     "output_type": "stream",
     "text": [
      "Warning message:\n",
      "\"package 'tseries' was built under R version 3.6.3\"Registered S3 method overwritten by 'xts':\n",
      "  method     from\n",
      "  as.zoo.xts zoo \n",
      "Registered S3 method overwritten by 'quantmod':\n",
      "  method            from\n",
      "  as.zoo.data.frame zoo \n",
      "Warning message:\n",
      "\"package 'lmtest' was built under R version 3.6.3\"Loading required package: zoo\n",
      "\n",
      "Attaching package: 'zoo'\n",
      "\n",
      "The following objects are masked from 'package:base':\n",
      "\n",
      "    as.Date, as.Date.numeric\n",
      "\n"
     ]
    }
   ],
   "source": [
    "setwd(\"C:/Users/Victoria/Documents/Git_Projects\")\n",
    "getwd() \n",
    "\n",
    "options(scipen=999)\n",
    "\n",
    "install.packages(\"tseries\")\n",
    "install.packages(\"lmtest\")\n",
    "library(tseries)\n",
    "library(lmtest) "
   ]
  },
  {
   "cell_type": "code",
   "execution_count": 4,
   "id": "23e02852",
   "metadata": {},
   "outputs": [],
   "source": [
    "serie <- read.ts(\"dados_serie.txt\", header = FALSE, sep = \"\", skip = 0)"
   ]
  },
  {
   "cell_type": "code",
   "execution_count": 5,
   "id": "1665e5e2",
   "metadata": {},
   "outputs": [
    {
     "data": {
      "text/plain": [
       "     Min.   1st Qu.    Median      Mean   3rd Qu.      Max. \n",
       "-3.768364 -0.889839 -0.012787 -0.002684  0.851857  4.147622 "
      ]
     },
     "metadata": {},
     "output_type": "display_data"
    }
   ],
   "source": [
    "#Exploratory series analysis\n",
    "summary(serie)"
   ]
  },
  {
   "cell_type": "markdown",
   "id": "64507cc6",
   "metadata": {},
   "source": [
    "Analyzing the graph of the series, doing the first visual check to see if the series indicates stationarity"
   ]
  },
  {
   "cell_type": "code",
   "execution_count": 6,
   "id": "3fa8b842",
   "metadata": {},
   "outputs": [
    {
     "data": {
      "image/png": "[encoded data removed]",
      "text/plain": [
       "plot without title"
      ]
     },
     "metadata": {},
     "output_type": "display_data"
    }
   ],
   "source": [
    "par(mfrow=c(1,1))\n",
    "ts.plot(serie)"
   ]
  },
  {
   "cell_type": "markdown",
   "id": "60987d6d",
   "metadata": {},
   "source": [
    "Now, let's perform the ADF test to confirm if the series is stationary:"
   ]
  },
  {
   "cell_type": "code",
   "execution_count": 7,
   "id": "119a0b66",
   "metadata": {},
   "outputs": [
    {
     "name": "stderr",
     "output_type": "stream",
     "text": [
      "Warning message in adf.test(serie):\n",
      "\"p-value smaller than printed p-value\""
     ]
    },
    {
     "data": {
      "text/plain": [
       "\n",
       "\tAugmented Dickey-Fuller Test\n",
       "\n",
       "data:  serie\n",
       "Dickey-Fuller = -11.593, Lag order = 12, p-value = 0.01\n",
       "alternative hypothesis: stationary\n"
      ]
     },
     "metadata": {},
     "output_type": "display_data"
    }
   ],
   "source": [
    "adf.test(serie)"
   ]
  },
  {
   "cell_type": "markdown",
   "id": "499009eb",
   "metadata": {},
   "source": [
    "Once the series is stationary, we identify the most appropriate model"
   ]
  },
  {
   "cell_type": "code",
   "execution_count": 8,
   "id": "6bb3b5de",
   "metadata": {},
   "outputs": [
    {
     "data": {
      "image/png": "[encoded data removed]",
      "text/plain": [
       "Plot with title \"PACF\""
      ]
     },
     "metadata": {},
     "output_type": "display_data"
    }
   ],
   "source": [
    "par(mfrow=c(1,2))\n",
    "acf(serie, main=\"ACF\")\n",
    "pacf(serie,main=\"PACF\")"
   ]
  },
  {
   "cell_type": "markdown",
   "id": "240322a8",
   "metadata": {},
   "source": [
    "Analyzing the two graphs, we notice that in the ACF we have much less memory compared to what we see in the PACF, we can initially consider that we are dealing with a time series model called MA(1)"
   ]
  },
  {
   "cell_type": "code",
   "execution_count": 9,
   "id": "f92bb534",
   "metadata": {},
   "outputs": [],
   "source": [
    "modelo <- arima(serie, order = c(0,0,1), fixed = c(NA,NA), method = c(\"ML\"))"
   ]
  },
  {
   "cell_type": "code",
   "execution_count": 10,
   "id": "f7794193",
   "metadata": {},
   "outputs": [
    {
     "data": {
      "text/plain": [
       "\n",
       "z test of coefficients:\n",
       "\n",
       "            Estimate Std. Error z value            Pr(>|z|)    \n",
       "ma1        0.7607385  0.0144410 52.6792 <0.0000000000000002 ***\n",
       "intercept -0.0026656  0.0402744 -0.0662              0.9472    \n",
       "---\n",
       "Signif. codes:  0 '***' 0.001 '**' 0.01 '*' 0.05 '.' 0.1 ' ' 1\n"
      ]
     },
     "metadata": {},
     "output_type": "display_data"
    }
   ],
   "source": [
    "#Hypothesis testing of parameters:\n",
    "coeftest(modelo)"
   ]
  },
  {
   "cell_type": "code",
   "execution_count": 11,
   "id": "c8e286c3",
   "metadata": {},
   "outputs": [
    {
     "data": {
      "text/plain": [
       "\n",
       "z test of coefficients:\n",
       "\n",
       "    Estimate Std. Error z value              Pr(>|z|)    \n",
       "ma1  0.76075    0.01444  52.681 < 0.00000000000000022 ***\n",
       "---\n",
       "Signif. codes:  0 '***' 0.001 '**' 0.01 '*' 0.05 '.' 0.1 ' ' 1\n"
      ]
     },
     "metadata": {},
     "output_type": "display_data"
    }
   ],
   "source": [
    "#Removing the intercept\n",
    "modelo <- arima(serie, order = c(0,0,1), fixed = c(NA,0), method = c(\"ML\"))\n",
    "coeftest(modelo)"
   ]
  },
  {
   "cell_type": "code",
   "execution_count": 12,
   "id": "f1411c86",
   "metadata": {},
   "outputs": [
    {
     "data": {
      "image/png": "[encoded data removed]",
      "text/plain": [
       "Plot with title \"PACF of Residuals\""
      ]
     },
     "metadata": {},
     "output_type": "display_data"
    }
   ],
   "source": [
    "#Residual analysis:\n",
    "par(mfrow=c(1,2))\n",
    "acf(residuals(modelo), main=\"ACF of Residuals\")\n",
    "pacf(residuals(modelo), main=\"PACF of Residuals\")"
   ]
  },
  {
   "cell_type": "markdown",
   "id": "8f0cf4bc",
   "metadata": {},
   "source": [
    "We observe with the residuals that the model is not yet fully fitted. Lag 25 is beyond the confidence interval. In this case, we will add an AR to the model, assuming the ARMA(25) configuration, and see if we need to do any further adjustment:"
   ]
  },
  {
   "cell_type": "code",
   "execution_count": 13,
   "id": "2f8fec21",
   "metadata": {},
   "outputs": [
    {
     "name": "stderr",
     "output_type": "stream",
     "text": [
      "Warning message in arima(serie, order = c(25, 0, 1), fixed = c(0, 0, 0, 0, 0, 0, :\n",
      "\"some AR parameters were fixed: setting transform.pars = FALSE\""
     ]
    },
    {
     "data": {
      "text/plain": [
       "\n",
       "z test of coefficients:\n",
       "\n",
       "      Estimate Std. Error z value             Pr(>|z|)    \n",
       "ar25 -0.047351   0.022448 -2.1094              0.03491 *  \n",
       "ma1   0.761481   0.014431 52.7657 < 0.0000000000000002 ***\n",
       "---\n",
       "Signif. codes:  0 '***' 0.001 '**' 0.01 '*' 0.05 '.' 0.1 ' ' 1\n"
      ]
     },
     "metadata": {},
     "output_type": "display_data"
    }
   ],
   "source": [
    "modelo<- arima(serie, order = c(25,0,1), fixed =\n",
    "                 c(0,0,0,0,0,0,0,0,0,0,0,0,0,0,0,0,0,0,0,0,0,0,0,0,NA,NA,0), method = c(\"ML\"))\n",
    "coeftest(modelo)"
   ]
  },
  {
   "cell_type": "code",
   "execution_count": 14,
   "id": "a3371d26",
   "metadata": {},
   "outputs": [
    {
     "data": {
      "image/png": "[encoded data removed]",
      "text/plain": [
       "Plot with title \"PACF of Residuals\""
      ]
     },
     "metadata": {},
     "output_type": "display_data"
    }
   ],
   "source": [
    "#Residual analysis:\n",
    "par(mfrow=c(1,2))\n",
    "acf(residuals(modelo), main=\"ACF of Residuals\")\n",
    "pacf(residuals(modelo), main=\"PACF of Residuals\")"
   ]
  },
  {
   "cell_type": "markdown",
   "id": "b7691f34",
   "metadata": {},
   "source": [
    "Once the model is fitted, showing white noise in the residuals, we can build the model equation for our client, with the coefficients obtained:"
   ]
  },
  {
   "cell_type": "markdown",
   "id": "3f4a6e5b",
   "metadata": {},
   "source": [
    "#### 𝑌𝑡=−0,0474∗𝑌𝑡−25+0,7615∗𝜀𝑡−1"
   ]
  }
 ],
 "metadata": {
  "kernelspec": {
   "display_name": "R",
   "language": "R",
   "name": "ir"
  },
  "language_info": {
   "codemirror_mode": "r",
   "file_extension": ".r",
   "mimetype": "text/x-r-source",
   "name": "R",
   "pygments_lexer": "r",
   "version": "3.6.1"
  }
 },
 "nbformat": 4,
 "nbformat_minor": 5
}
